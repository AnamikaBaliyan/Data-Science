{
 "cells": [
  {
   "cell_type": "code",
   "execution_count": 1,
   "id": "80e894d7",
   "metadata": {},
   "outputs": [],
   "source": [
    "# tuple is one of the data structures in python \n",
    "# tuple is immutable : we cannot change anything \n",
    "# tuple will be represented in the form of ()\n"
   ]
  },
  {
   "cell_type": "code",
   "execution_count": 2,
   "id": "3ae37d67",
   "metadata": {},
   "outputs": [
    {
     "name": "stdout",
     "output_type": "stream",
     "text": [
      "(10, 20.5, 'python')\n"
     ]
    }
   ],
   "source": [
    "a = (10,20.5,'python')\n",
    "print(a)"
   ]
  },
  {
   "cell_type": "code",
   "execution_count": 3,
   "id": "15acec5f",
   "metadata": {},
   "outputs": [
    {
     "data": {
      "text/plain": [
       "tuple"
      ]
     },
     "execution_count": 3,
     "metadata": {},
     "output_type": "execute_result"
    }
   ],
   "source": [
    "type(a)"
   ]
  },
  {
   "cell_type": "code",
   "execution_count": 4,
   "id": "32324468",
   "metadata": {},
   "outputs": [],
   "source": [
    "# three rules to follow:\n",
    "# add is possible?\n",
    "# replace is possible?\n",
    "# delete is possible?\n"
   ]
  },
  {
   "cell_type": "code",
   "execution_count": 5,
   "id": "f2ba9659",
   "metadata": {},
   "outputs": [
    {
     "ename": "TypeError",
     "evalue": "'tuple' object does not support item assignment",
     "output_type": "error",
     "traceback": [
      "\u001b[1;31m---------------------------------------------------------------------------\u001b[0m",
      "\u001b[1;31mTypeError\u001b[0m                                 Traceback (most recent call last)",
      "Cell \u001b[1;32mIn[5], line 1\u001b[0m\n\u001b[1;32m----> 1\u001b[0m \u001b[43ma\u001b[49m\u001b[43m[\u001b[49m\u001b[38;5;241;43m1\u001b[39;49m\u001b[43m]\u001b[49m \u001b[38;5;241m=\u001b[39m \u001b[38;5;241m200\u001b[39m\n",
      "\u001b[1;31mTypeError\u001b[0m: 'tuple' object does not support item assignment"
     ]
    }
   ],
   "source": [
    "a[1] = 200\n"
   ]
  },
  {
   "cell_type": "code",
   "execution_count": 6,
   "id": "77a1e14c",
   "metadata": {},
   "outputs": [
    {
     "ename": "TypeError",
     "evalue": "'tuple' object doesn't support item deletion",
     "output_type": "error",
     "traceback": [
      "\u001b[1;31m---------------------------------------------------------------------------\u001b[0m",
      "\u001b[1;31mTypeError\u001b[0m                                 Traceback (most recent call last)",
      "Cell \u001b[1;32mIn[6], line 1\u001b[0m\n\u001b[1;32m----> 1\u001b[0m \u001b[38;5;28;01mdel\u001b[39;00m a[\u001b[38;5;241m1\u001b[39m]\n",
      "\u001b[1;31mTypeError\u001b[0m: 'tuple' object doesn't support item deletion"
     ]
    }
   ],
   "source": [
    "del a[1]"
   ]
  },
  {
   "cell_type": "code",
   "execution_count": 13,
   "id": "373dd97e",
   "metadata": {},
   "outputs": [
    {
     "name": "stdout",
     "output_type": "stream",
     "text": [
      "(10, 20.5, 'kamal')\n"
     ]
    }
   ],
   "source": [
    "# for one variable if you want to give multiple values use tuple \n",
    "\n",
    "a = 10,20.5,'kamal'\n",
    "print(a)"
   ]
  },
  {
   "cell_type": "code",
   "execution_count": 8,
   "id": "fdc56c19",
   "metadata": {},
   "outputs": [
    {
     "data": {
      "text/plain": [
       "tuple"
      ]
     },
     "execution_count": 8,
     "metadata": {},
     "output_type": "execute_result"
    }
   ],
   "source": [
    "type(a)"
   ]
  },
  {
   "cell_type": "code",
   "execution_count": 9,
   "id": "a0344f38",
   "metadata": {},
   "outputs": [
    {
     "name": "stdout",
     "output_type": "stream",
     "text": [
      "<class 'tuple'>\n"
     ]
    }
   ],
   "source": [
    "b = 10,\n",
    "print(type(b))"
   ]
  },
  {
   "cell_type": "code",
   "execution_count": 10,
   "id": "cc9e4feb",
   "metadata": {},
   "outputs": [
    {
     "name": "stdout",
     "output_type": "stream",
     "text": [
      "(10, 20, 30, 40)\n"
     ]
    }
   ],
   "source": [
    "# change to tuple\n",
    "a = [10,20,30,40]\n",
    "b = tuple(a)\n",
    "print(b)"
   ]
  },
  {
   "cell_type": "code",
   "execution_count": 11,
   "id": "4a662b05",
   "metadata": {},
   "outputs": [
    {
     "name": "stdout",
     "output_type": "stream",
     "text": [
      "[10, 20, 30, 40]\n"
     ]
    }
   ],
   "source": [
    "a = (10,20,30,40)\n",
    "b = list(a)\n",
    "print(b)"
   ]
  },
  {
   "cell_type": "code",
   "execution_count": 14,
   "id": "065fa772",
   "metadata": {},
   "outputs": [],
   "source": [
    "# methods in tuple:"
   ]
  },
  {
   "cell_type": "code",
   "execution_count": 23,
   "id": "1641227a",
   "metadata": {},
   "outputs": [
    {
     "name": "stdout",
     "output_type": "stream",
     "text": [
      "(100, 10, 30, 10)\n"
     ]
    }
   ],
   "source": [
    "a = (100,10,30,10)\n",
    "print(a)"
   ]
  },
  {
   "cell_type": "code",
   "execution_count": 24,
   "id": "c7574258",
   "metadata": {},
   "outputs": [
    {
     "data": {
      "text/plain": [
       "2"
      ]
     },
     "execution_count": 24,
     "metadata": {},
     "output_type": "execute_result"
    }
   ],
   "source": [
    "a.count(10)"
   ]
  },
  {
   "cell_type": "code",
   "execution_count": 25,
   "id": "d056679b",
   "metadata": {},
   "outputs": [
    {
     "data": {
      "text/plain": [
       "1"
      ]
     },
     "execution_count": 25,
     "metadata": {},
     "output_type": "execute_result"
    }
   ],
   "source": [
    "a.index(10)"
   ]
  },
  {
   "cell_type": "code",
   "execution_count": 21,
   "id": "b2f2f8ac",
   "metadata": {},
   "outputs": [
    {
     "data": {
      "text/plain": [
       "3"
      ]
     },
     "execution_count": 21,
     "metadata": {},
     "output_type": "execute_result"
    }
   ],
   "source": [
    "a.index(10 , 2,4)"
   ]
  },
  {
   "cell_type": "code",
   "execution_count": 30,
   "id": "3051f3bc",
   "metadata": {},
   "outputs": [
    {
     "name": "stdout",
     "output_type": "stream",
     "text": [
      "[10, 20.2, 'data science', 2]\n"
     ]
    }
   ],
   "source": [
    "a = [10,20.2,\"data science\"]\n",
    "a.append(2)  # memory space will be updated \n",
    "print(a)"
   ]
  },
  {
   "cell_type": "code",
   "execution_count": 31,
   "id": "1af612db",
   "metadata": {},
   "outputs": [
    {
     "name": "stdout",
     "output_type": "stream",
     "text": [
      "language.programming.love.I\n"
     ]
    }
   ],
   "source": [
    "## question : capgemini interview question\n",
    "\n",
    "value = 'I.love.programming.language'\n",
    "b = value.split('.')\n",
    "c = b[::-1]\n",
    "d = '.'.join(c)\n",
    "print(d)"
   ]
  },
  {
   "cell_type": "code",
   "execution_count": 33,
   "id": "d51c1c4b",
   "metadata": {},
   "outputs": [
    {
     "name": "stdout",
     "output_type": "stream",
     "text": [
      "['I', 'love', 'programming', 'language']\n",
      "None\n"
     ]
    }
   ],
   "source": [
    "## question : capgemini interview question\n",
    "\n",
    "value = 'I.love.programming.language'\n",
    "b = value.split('.')\n",
    "print(b)\n",
    "c = b.reverse()\n",
    "\n",
    "print(c)"
   ]
  },
  {
   "cell_type": "code",
   "execution_count": 36,
   "id": "58ccda94",
   "metadata": {},
   "outputs": [
    {
     "name": "stdout",
     "output_type": "stream",
     "text": [
      "[11, 10]\n"
     ]
    }
   ],
   "source": [
    "a = [10,11]\n",
    "a.reverse()\n",
    "\n",
    "print(a)"
   ]
  },
  {
   "cell_type": "code",
   "execution_count": 37,
   "id": "431f3a40",
   "metadata": {},
   "outputs": [],
   "source": [
    "# sets and dictinaries and control and conditional statements:"
   ]
  },
  {
   "cell_type": "code",
   "execution_count": null,
   "id": "be671d96",
   "metadata": {},
   "outputs": [],
   "source": []
  }
 ],
 "metadata": {
  "kernelspec": {
   "display_name": "Python 3 (ipykernel)",
   "language": "python",
   "name": "python3"
  },
  "language_info": {
   "codemirror_mode": {
    "name": "ipython",
    "version": 3
   },
   "file_extension": ".py",
   "mimetype": "text/x-python",
   "name": "python",
   "nbconvert_exporter": "python",
   "pygments_lexer": "ipython3",
   "version": "3.10.9"
  }
 },
 "nbformat": 4,
 "nbformat_minor": 5
}
