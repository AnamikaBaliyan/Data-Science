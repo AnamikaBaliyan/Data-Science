{
 "cells": [
  {
   "cell_type": "markdown",
   "id": "a8a2b639",
   "metadata": {},
   "source": [
    "- string_documentation : https://docs.python.org/2/library/string.html"
   ]
  },
  {
   "cell_type": "code",
   "execution_count": 8,
   "id": "72990659",
   "metadata": {},
   "outputs": [],
   "source": [
    "# Forward direction index starts from 0:\n",
    "# backward direction index starts with -1 \n",
    "\n",
    "a = 'datascience'\n"
   ]
  },
  {
   "cell_type": "code",
   "execution_count": 4,
   "id": "c85cbe75",
   "metadata": {},
   "outputs": [
    {
     "name": "stdout",
     "output_type": "stream",
     "text": [
      "n\n"
     ]
    }
   ],
   "source": [
    "print(a[8])"
   ]
  },
  {
   "cell_type": "code",
   "execution_count": 5,
   "id": "380c36b0",
   "metadata": {},
   "outputs": [
    {
     "name": "stdout",
     "output_type": "stream",
     "text": [
      "s\n"
     ]
    }
   ],
   "source": [
    "print(a[4])"
   ]
  },
  {
   "cell_type": "code",
   "execution_count": 7,
   "id": "2b68a512",
   "metadata": {},
   "outputs": [
    {
     "name": "stdout",
     "output_type": "stream",
     "text": [
      "a\n"
     ]
    }
   ],
   "source": [
    "b = 'I am fine'\n",
    "print(b[2])"
   ]
  },
  {
   "cell_type": "code",
   "execution_count": 9,
   "id": "5341f0a2",
   "metadata": {},
   "outputs": [
    {
     "name": "stdout",
     "output_type": "stream",
     "text": [
      "h\n"
     ]
    }
   ],
   "source": [
    "c = 'python'\n",
    "\n",
    "# in forward dir:\n",
    "print(c[3])"
   ]
  },
  {
   "cell_type": "code",
   "execution_count": 10,
   "id": "288df3bc",
   "metadata": {},
   "outputs": [
    {
     "name": "stdout",
     "output_type": "stream",
     "text": [
      "h\n"
     ]
    }
   ],
   "source": [
    "# backward direction:\n",
    "print(c[-3])"
   ]
  },
  {
   "cell_type": "markdown",
   "id": "6cefddcb",
   "metadata": {},
   "source": [
    "### slicing operations on strings with index concepts:"
   ]
  },
  {
   "cell_type": "code",
   "execution_count": 12,
   "id": "6542ce94",
   "metadata": {},
   "outputs": [
    {
     "name": "stdout",
     "output_type": "stream",
     "text": [
      "ytho\n"
     ]
    }
   ],
   "source": [
    "a = 'python'\n",
    "print(a[1 : 5])"
   ]
  },
  {
   "cell_type": "code",
   "execution_count": 16,
   "id": "3dffc5bc",
   "metadata": {},
   "outputs": [
    {
     "name": "stdout",
     "output_type": "stream",
     "text": [
      "ta sc\n"
     ]
    }
   ],
   "source": [
    "a = 'data science'\n",
    "print(a[2 : 7])"
   ]
  },
  {
   "cell_type": "code",
   "execution_count": 19,
   "id": "69a0ba97",
   "metadata": {},
   "outputs": [
    {
     "name": "stdout",
     "output_type": "stream",
     "text": [
      "cie\n"
     ]
    }
   ],
   "source": [
    "a = 'data science'\n",
    "print(a[-6 : -3])"
   ]
  },
  {
   "cell_type": "code",
   "execution_count": 20,
   "id": "dd3b0b29",
   "metadata": {},
   "outputs": [
    {
     "data": {
      "text/plain": [
       "'d'"
      ]
     },
     "execution_count": 20,
     "metadata": {},
     "output_type": "execute_result"
    }
   ],
   "source": [
    "a[0]"
   ]
  },
  {
   "cell_type": "code",
   "execution_count": 21,
   "id": "c40787b0",
   "metadata": {},
   "outputs": [
    {
     "data": {
      "text/plain": [
       "'d'"
      ]
     },
     "execution_count": 21,
     "metadata": {},
     "output_type": "execute_result"
    }
   ],
   "source": [
    "a[-12]"
   ]
  },
  {
   "cell_type": "code",
   "execution_count": 23,
   "id": "af2e8049",
   "metadata": {},
   "outputs": [
    {
     "data": {
      "text/plain": [
       "'yhn'"
      ]
     },
     "execution_count": 23,
     "metadata": {},
     "output_type": "execute_result"
    }
   ],
   "source": [
    "# python slicing and skipping concept:\n",
    "a = 'python'\n",
    "a[1:6:2]"
   ]
  },
  {
   "cell_type": "code",
   "execution_count": 24,
   "id": "61e6771b",
   "metadata": {},
   "outputs": [
    {
     "name": "stdout",
     "output_type": "stream",
     "text": [
      "aasin\n"
     ]
    }
   ],
   "source": [
    "a = 'data science'\n",
    "print(a[1:11:2])"
   ]
  },
  {
   "cell_type": "code",
   "execution_count": 25,
   "id": "c1904f1c",
   "metadata": {},
   "outputs": [],
   "source": [
    "# Using slicing concept there are few fixed techniques:\n"
   ]
  },
  {
   "cell_type": "code",
   "execution_count": 26,
   "id": "0e52521f",
   "metadata": {},
   "outputs": [
    {
     "name": "stdout",
     "output_type": "stream",
     "text": [
      "rajinikanth\n"
     ]
    }
   ],
   "source": [
    "a = 'rajinikanth'\n",
    "\n",
    "print(a[:])   # : -> means return entire string as it is:"
   ]
  },
  {
   "cell_type": "code",
   "execution_count": 27,
   "id": "dead6475",
   "metadata": {},
   "outputs": [
    {
     "name": "stdout",
     "output_type": "stream",
     "text": [
      "jinikanth\n"
     ]
    }
   ],
   "source": [
    "print(a[2 : ])  # means from 2nd index position to entire string "
   ]
  },
  {
   "cell_type": "code",
   "execution_count": 28,
   "id": "37f24fa4",
   "metadata": {},
   "outputs": [
    {
     "name": "stdout",
     "output_type": "stream",
     "text": [
      "rajinikant\n"
     ]
    }
   ],
   "source": [
    "print(a[:10])  # means there is destination but there is no starting point so its starts from zero:\n"
   ]
  },
  {
   "cell_type": "code",
   "execution_count": 29,
   "id": "af4b00b4",
   "metadata": {},
   "outputs": [
    {
     "name": "stdout",
     "output_type": "stream",
     "text": [
      "htnakinijar\n"
     ]
    }
   ],
   "source": [
    "print(a[::-1]) # from staring position to ending position pls reverse everything \n",
    "\n",
    "# : -> starting \n",
    "# : -> ending \n",
    "# -1 -> reverse "
   ]
  },
  {
   "cell_type": "code",
   "execution_count": 31,
   "id": "6899dd43",
   "metadata": {},
   "outputs": [
    {
     "name": "stdout",
     "output_type": "stream",
     "text": [
      "llufrewop yrev si nohtyP\n"
     ]
    }
   ],
   "source": [
    "a = 'Python is very powerfull'\n",
    "print(a[::-1])"
   ]
  },
  {
   "cell_type": "code",
   "execution_count": 32,
   "id": "e528a9e1",
   "metadata": {},
   "outputs": [
    {
     "name": "stdout",
     "output_type": "stream",
     "text": [
      "Python is very powerfull\n"
     ]
    }
   ],
   "source": [
    "print(a[::1])"
   ]
  },
  {
   "cell_type": "code",
   "execution_count": 33,
   "id": "661ef966",
   "metadata": {},
   "outputs": [
    {
     "name": "stdout",
     "output_type": "stream",
     "text": [
      "iclnlg\n"
     ]
    }
   ],
   "source": [
    "a = 'artificial intelligence'\n",
    "print(a[3:21:3])"
   ]
  },
  {
   "cell_type": "code",
   "execution_count": 36,
   "id": "c1b0f770",
   "metadata": {},
   "outputs": [
    {
     "name": "stdout",
     "output_type": "stream",
     "text": [
      "to\n"
     ]
    }
   ],
   "source": [
    "a = 'python'\n",
    "print(a[2:5:2])"
   ]
  },
  {
   "cell_type": "code",
   "execution_count": 37,
   "id": "95aaf1b3",
   "metadata": {},
   "outputs": [],
   "source": [
    "# Each data structure has there own methods:\n"
   ]
  },
  {
   "cell_type": "code",
   "execution_count": 38,
   "id": "7b634146",
   "metadata": {},
   "outputs": [],
   "source": [
    "### string concept and method:\n",
    "\n",
    "# string is immutable : we cannnot change memory space:"
   ]
  },
  {
   "cell_type": "code",
   "execution_count": 39,
   "id": "6dffc93f",
   "metadata": {},
   "outputs": [
    {
     "name": "stdout",
     "output_type": "stream",
     "text": [
      "python java\n"
     ]
    }
   ],
   "source": [
    "\n",
    "mystring = 'python java'\n",
    "print(mystring)"
   ]
  },
  {
   "cell_type": "code",
   "execution_count": 40,
   "id": "46833715",
   "metadata": {},
   "outputs": [],
   "source": [
    "# I want to add a character : I want to increase the memory space : is if possible:\n",
    "\n",
    "# shift + enter to check complete info about python predefined methods:\n",
    "# tab will show you about variables "
   ]
  },
  {
   "cell_type": "code",
   "execution_count": 44,
   "id": "932a1b42",
   "metadata": {},
   "outputs": [
    {
     "ename": "TypeError",
     "evalue": "'str' object does not support item assignment",
     "output_type": "error",
     "traceback": [
      "\u001b[1;31m---------------------------------------------------------------------------\u001b[0m",
      "\u001b[1;31mTypeError\u001b[0m                                 Traceback (most recent call last)",
      "Cell \u001b[1;32mIn[44], line 3\u001b[0m\n\u001b[0;32m      1\u001b[0m \u001b[38;5;66;03m# adding new char to string ?\u001b[39;00m\n\u001b[1;32m----> 3\u001b[0m \u001b[43mmystring\u001b[49m\u001b[43m[\u001b[49m\u001b[38;5;241;43m11\u001b[39;49m\u001b[43m]\u001b[49m \u001b[38;5;241m=\u001b[39m \u001b[38;5;124m'\u001b[39m\u001b[38;5;124mM\u001b[39m\u001b[38;5;124m'\u001b[39m\n",
      "\u001b[1;31mTypeError\u001b[0m: 'str' object does not support item assignment"
     ]
    }
   ],
   "source": [
    "# adding new char to string ?\n",
    "\n",
    "mystring[11] = 'M'"
   ]
  },
  {
   "cell_type": "code",
   "execution_count": 45,
   "id": "8870b337",
   "metadata": {},
   "outputs": [
    {
     "ename": "TypeError",
     "evalue": "'str' object does not support item assignment",
     "output_type": "error",
     "traceback": [
      "\u001b[1;31m---------------------------------------------------------------------------\u001b[0m",
      "\u001b[1;31mTypeError\u001b[0m                                 Traceback (most recent call last)",
      "Cell \u001b[1;32mIn[45], line 2\u001b[0m\n\u001b[0;32m      1\u001b[0m \u001b[38;5;66;03m# inserting is possible ?\u001b[39;00m\n\u001b[1;32m----> 2\u001b[0m \u001b[43mmystring\u001b[49m\u001b[43m[\u001b[49m\u001b[38;5;241;43m4\u001b[39;49m\u001b[43m]\u001b[49m \u001b[38;5;241m=\u001b[39m \u001b[38;5;124m'\u001b[39m\u001b[38;5;124mK\u001b[39m\u001b[38;5;124m'\u001b[39m\n",
      "\u001b[1;31mTypeError\u001b[0m: 'str' object does not support item assignment"
     ]
    }
   ],
   "source": [
    "# inserting is possible ?\n",
    "mystring[4] = 'K'"
   ]
  },
  {
   "cell_type": "code",
   "execution_count": 47,
   "id": "f6b23d18",
   "metadata": {},
   "outputs": [
    {
     "ename": "TypeError",
     "evalue": "'str' object doesn't support item deletion",
     "output_type": "error",
     "traceback": [
      "\u001b[1;31m---------------------------------------------------------------------------\u001b[0m",
      "\u001b[1;31mTypeError\u001b[0m                                 Traceback (most recent call last)",
      "Cell \u001b[1;32mIn[47], line 3\u001b[0m\n\u001b[0;32m      1\u001b[0m \u001b[38;5;66;03m# deleting is pobbile ?\u001b[39;00m\n\u001b[1;32m----> 3\u001b[0m \u001b[38;5;28;01mdel\u001b[39;00m mystring[\u001b[38;5;241m5\u001b[39m]\n",
      "\u001b[1;31mTypeError\u001b[0m: 'str' object doesn't support item deletion"
     ]
    }
   ],
   "source": [
    "# deleting is pobbile ?\n",
    "\n",
    "del mystring[5]"
   ]
  },
  {
   "cell_type": "code",
   "execution_count": 50,
   "id": "24429fd3",
   "metadata": {},
   "outputs": [
    {
     "data": {
      "text/plain": [
       "'pytKon java'"
      ]
     },
     "execution_count": 50,
     "metadata": {},
     "output_type": "execute_result"
    }
   ],
   "source": [
    "# We can replace char in string within memory space:\n",
    "# using python string replace method:\n",
    "\n",
    "mystring.replace('h' , 'K')  # we are changing but not saving"
   ]
  },
  {
   "cell_type": "code",
   "execution_count": 51,
   "id": "5b58535a",
   "metadata": {},
   "outputs": [
    {
     "name": "stdout",
     "output_type": "stream",
     "text": [
      "python java\n"
     ]
    }
   ],
   "source": [
    "print(mystring)"
   ]
  },
  {
   "cell_type": "code",
   "execution_count": 52,
   "id": "870ad780",
   "metadata": {},
   "outputs": [
    {
     "name": "stdout",
     "output_type": "stream",
     "text": [
      "python\n"
     ]
    }
   ],
   "source": [
    "a = 'python'\n",
    "print(a)"
   ]
  },
  {
   "cell_type": "code",
   "execution_count": 56,
   "id": "f84c39c3",
   "metadata": {},
   "outputs": [],
   "source": [
    "a = a.replace('t', 'k')"
   ]
  },
  {
   "cell_type": "code",
   "execution_count": 57,
   "id": "6922074c",
   "metadata": {},
   "outputs": [
    {
     "name": "stdout",
     "output_type": "stream",
     "text": [
      "pykhon\n"
     ]
    }
   ],
   "source": [
    "print(a)"
   ]
  },
  {
   "cell_type": "markdown",
   "id": "de9997d3",
   "metadata": {},
   "source": [
    "#### string methods "
   ]
  },
  {
   "cell_type": "code",
   "execution_count": 58,
   "id": "eeaf7668",
   "metadata": {},
   "outputs": [
    {
     "data": {
      "text/plain": [
       "'I $m working in ZestIot $s Module le$d'"
      ]
     },
     "execution_count": 58,
     "metadata": {},
     "output_type": "execute_result"
    }
   ],
   "source": [
    "# replace:\n",
    "\n",
    "a = 'I am working in ZestIot as Module lead'   # 3 a's\n",
    "a.replace('a' , '$')\n"
   ]
  },
  {
   "cell_type": "code",
   "execution_count": 64,
   "id": "11bf25ee",
   "metadata": {},
   "outputs": [
    {
     "data": {
      "text/plain": [
       "'I $m working in ZestIot $s Module lead'"
      ]
     },
     "execution_count": 64,
     "metadata": {},
     "output_type": "execute_result"
    }
   ],
   "source": [
    "a = 'I am working in ZestIot as Module lead'   # 3 a's\n",
    "a.replace('a' , '$' , 2)\n"
   ]
  },
  {
   "cell_type": "code",
   "execution_count": 65,
   "id": "8a325e20",
   "metadata": {},
   "outputs": [
    {
     "data": {
      "text/plain": [
       "'Datascience'"
      ]
     },
     "execution_count": 65,
     "metadata": {},
     "output_type": "execute_result"
    }
   ],
   "source": [
    "# capitalize: starting letter will be capitalized:\n",
    "\n",
    "a = 'datascience'\n",
    "a.capitalize()"
   ]
  },
  {
   "cell_type": "code",
   "execution_count": 67,
   "id": "1cce41d0",
   "metadata": {},
   "outputs": [
    {
     "data": {
      "text/plain": [
       "'I am working in zestiot as module lead'"
      ]
     },
     "execution_count": 67,
     "metadata": {},
     "output_type": "execute_result"
    }
   ],
   "source": [
    "a = 'i am working in ZestIot as Module lead'\n",
    "a.capitalize()"
   ]
  },
  {
   "cell_type": "code",
   "execution_count": 68,
   "id": "f6f7d41e",
   "metadata": {},
   "outputs": [
    {
     "data": {
      "text/plain": [
       "3"
      ]
     },
     "execution_count": 68,
     "metadata": {},
     "output_type": "execute_result"
    }
   ],
   "source": [
    "# count: it is going to count the number of times appereces \n",
    "\n",
    "a = 'i am working in ZestIot as Module lead'\n",
    "a.count('a')"
   ]
  },
  {
   "cell_type": "code",
   "execution_count": 69,
   "id": "c15d76d4",
   "metadata": {},
   "outputs": [
    {
     "data": {
      "text/plain": [
       "2"
      ]
     },
     "execution_count": 69,
     "metadata": {},
     "output_type": "execute_result"
    }
   ],
   "source": [
    "a = 'i am working in ZestIot as Module lead am'\n",
    "a.count('am')"
   ]
  },
  {
   "cell_type": "code",
   "execution_count": 70,
   "id": "79b1cf33",
   "metadata": {},
   "outputs": [
    {
     "data": {
      "text/plain": [
       "False"
      ]
     },
     "execution_count": 70,
     "metadata": {},
     "output_type": "execute_result"
    }
   ],
   "source": [
    "# startswith and endswith will give us boolean values : True or False:\n",
    "\n",
    "a = 'i am working in ZestIot as Module lead'\n",
    "a.startswith('I')"
   ]
  },
  {
   "cell_type": "code",
   "execution_count": 71,
   "id": "38ec8df2",
   "metadata": {},
   "outputs": [
    {
     "data": {
      "text/plain": [
       "True"
      ]
     },
     "execution_count": 71,
     "metadata": {},
     "output_type": "execute_result"
    }
   ],
   "source": [
    "a = 'i am working in ZestIot as Module lead'\n",
    "a.endswith('d')"
   ]
  },
  {
   "cell_type": "code",
   "execution_count": 83,
   "id": "59135d51",
   "metadata": {},
   "outputs": [
    {
     "data": {
      "text/plain": [
       "16"
      ]
     },
     "execution_count": 83,
     "metadata": {},
     "output_type": "execute_result"
    }
   ],
   "source": [
    "# index : will tell us the index value of a character:\n",
    "\n",
    "a = 'I am staying in s usa in NewYork'\n",
    "a.index('s' , 10, 19)"
   ]
  },
  {
   "cell_type": "code",
   "execution_count": 84,
   "id": "56802bec",
   "metadata": {},
   "outputs": [
    {
     "data": {
      "text/plain": [
       "'i am staying in usa in newyork'"
      ]
     },
     "execution_count": 84,
     "metadata": {},
     "output_type": "execute_result"
    }
   ],
   "source": [
    "# lower and upper \n",
    "# lower means capital to small letter \n",
    "# upper means small letter to capital\n",
    "\n",
    "a = 'I am staying in usa in NewYork'\n",
    "a.lower()"
   ]
  },
  {
   "cell_type": "code",
   "execution_count": 85,
   "id": "e625c007",
   "metadata": {},
   "outputs": [
    {
     "data": {
      "text/plain": [
       "'I AM STAYING IN USA IN NEWYORK'"
      ]
     },
     "execution_count": 85,
     "metadata": {},
     "output_type": "execute_result"
    }
   ],
   "source": [
    "a = 'I am staying in usa in NewYork'\n",
    "a.upper()"
   ]
  },
  {
   "cell_type": "code",
   "execution_count": 86,
   "id": "32eb9c12",
   "metadata": {},
   "outputs": [
    {
     "data": {
      "text/plain": [
       "False"
      ]
     },
     "execution_count": 86,
     "metadata": {},
     "output_type": "execute_result"
    }
   ],
   "source": [
    "# isupper and islower \n",
    "# they return bollean values if they satisfy:\n",
    "\n",
    "# checking wether each char is lower letter or not:\n",
    "\n",
    "a = 'I am staying in usa in NewYork'\n",
    "a.islower()"
   ]
  },
  {
   "cell_type": "code",
   "execution_count": 87,
   "id": "d2c7fc70",
   "metadata": {},
   "outputs": [
    {
     "data": {
      "text/plain": [
       "False"
      ]
     },
     "execution_count": 87,
     "metadata": {},
     "output_type": "execute_result"
    }
   ],
   "source": [
    "a = 'I am staying in usa in NewYork'\n",
    "a.isupper()"
   ]
  },
  {
   "cell_type": "code",
   "execution_count": 88,
   "id": "fd5b155b",
   "metadata": {},
   "outputs": [
    {
     "data": {
      "text/plain": [
       "True"
      ]
     },
     "execution_count": 88,
     "metadata": {},
     "output_type": "execute_result"
    }
   ],
   "source": [
    "# isaplha , isdecimal and isdigit , isalphanum,isnumerical:\n",
    "\n",
    "\n",
    "\n",
    "# alnum = alphanumnerical [Numbers and charachter]\n",
    "\n",
    "a = 'kamal123'\n",
    "a.isalnum()"
   ]
  },
  {
   "cell_type": "code",
   "execution_count": 89,
   "id": "b1fe6404",
   "metadata": {},
   "outputs": [
    {
     "data": {
      "text/plain": [
       "False"
      ]
     },
     "execution_count": 89,
     "metadata": {},
     "output_type": "execute_result"
    }
   ],
   "source": [
    "# isalpha : checks everthing is alphabets or not:\n",
    "\n",
    "a.isalpha()"
   ]
  },
  {
   "cell_type": "code",
   "execution_count": 90,
   "id": "430d5bed",
   "metadata": {},
   "outputs": [
    {
     "data": {
      "text/plain": [
       "False"
      ]
     },
     "execution_count": 90,
     "metadata": {},
     "output_type": "execute_result"
    }
   ],
   "source": [
    "# isdecimal : checks everthing is numbers or not:\n",
    "a.isdecimal()"
   ]
  },
  {
   "cell_type": "code",
   "execution_count": 91,
   "id": "19d81972",
   "metadata": {},
   "outputs": [
    {
     "data": {
      "text/plain": [
       "False"
      ]
     },
     "execution_count": 91,
     "metadata": {},
     "output_type": "execute_result"
    }
   ],
   "source": [
    "a.isdigit()"
   ]
  },
  {
   "cell_type": "code",
   "execution_count": 93,
   "id": "6e1e3025",
   "metadata": {},
   "outputs": [
    {
     "data": {
      "text/plain": [
       "True"
      ]
     },
     "execution_count": 93,
     "metadata": {},
     "output_type": "execute_result"
    }
   ],
   "source": [
    "a = 'eatworksleep'\n",
    "a.isalpha()"
   ]
  },
  {
   "cell_type": "code",
   "execution_count": 94,
   "id": "0ac2d19c",
   "metadata": {},
   "outputs": [],
   "source": [
    "# split and join method will dicuss after completing list:\n"
   ]
  },
  {
   "cell_type": "code",
   "execution_count": 96,
   "id": "c143fff2",
   "metadata": {},
   "outputs": [
    {
     "data": {
      "text/plain": [
       "'I Am Working In Zestiot As Module Lead'"
      ]
     },
     "execution_count": 96,
     "metadata": {},
     "output_type": "execute_result"
    }
   ],
   "source": [
    "# title : each word starting letter will be converted into captial :\n",
    "a = 'i am working in ZestIot as Module lead'\n",
    "a.title()"
   ]
  },
  {
   "cell_type": "markdown",
   "id": "7eaabdbc",
   "metadata": {},
   "source": [
    "# List In Python "
   ]
  },
  {
   "cell_type": "markdown",
   "id": "819588af",
   "metadata": {},
   "source": [
    "- List is mutable [we can change the memory space]\n",
    "- List has it own methods : Each type has its own methods: \n",
    "- List will be represented with []\n",
    "- List can accept any data type:"
   ]
  },
  {
   "cell_type": "code",
   "execution_count": 2,
   "id": "1f13da15",
   "metadata": {},
   "outputs": [
    {
     "name": "stdout",
     "output_type": "stream",
     "text": [
      "[10, 20, 30, 50.5, 'python']\n"
     ]
    }
   ],
   "source": [
    "a = [10 , 20 , 30 , 50.5 , 'python']\n",
    "print(a)"
   ]
  },
  {
   "cell_type": "code",
   "execution_count": 6,
   "id": "8c5b1bd8",
   "metadata": {},
   "outputs": [
    {
     "name": "stdout",
     "output_type": "stream",
     "text": [
      "o\n"
     ]
    }
   ],
   "source": [
    "print(a[4][4])"
   ]
  },
  {
   "cell_type": "code",
   "execution_count": 3,
   "id": "2c5a6561",
   "metadata": {},
   "outputs": [
    {
     "name": "stdout",
     "output_type": "stream",
     "text": [
      "50.5\n"
     ]
    }
   ],
   "source": [
    "print(a[3])"
   ]
  },
  {
   "cell_type": "code",
   "execution_count": 4,
   "id": "9e651bd8",
   "metadata": {},
   "outputs": [
    {
     "name": "stdout",
     "output_type": "stream",
     "text": [
      "python\n"
     ]
    }
   ],
   "source": [
    "print(a[4])"
   ]
  },
  {
   "cell_type": "code",
   "execution_count": 102,
   "id": "29f96298",
   "metadata": {},
   "outputs": [
    {
     "data": {
      "text/plain": [
       "'h'"
      ]
     },
     "execution_count": 102,
     "metadata": {},
     "output_type": "execute_result"
    }
   ],
   "source": [
    "a[4][3]"
   ]
  },
  {
   "cell_type": "code",
   "execution_count": 105,
   "id": "f8d6cafc",
   "metadata": {},
   "outputs": [
    {
     "name": "stdout",
     "output_type": "stream",
     "text": [
      "y\n"
     ]
    }
   ],
   "source": [
    "print(a[-1][1])"
   ]
  },
  {
   "cell_type": "code",
   "execution_count": 111,
   "id": "f2cba9e3",
   "metadata": {},
   "outputs": [
    {
     "name": "stdout",
     "output_type": "stream",
     "text": [
      "y\n"
     ]
    }
   ],
   "source": [
    "print(a[-1][-5])"
   ]
  },
  {
   "cell_type": "code",
   "execution_count": 106,
   "id": "0093ec0e",
   "metadata": {},
   "outputs": [
    {
     "name": "stdout",
     "output_type": "stream",
     "text": [
      "[10, 20, 30, 50.5, 'python']\n"
     ]
    }
   ],
   "source": [
    "# reverse \n",
    "print(a[:])"
   ]
  },
  {
   "cell_type": "code",
   "execution_count": 107,
   "id": "16930790",
   "metadata": {},
   "outputs": [
    {
     "name": "stdout",
     "output_type": "stream",
     "text": [
      "['python', 50.5, 30, 20, 10]\n"
     ]
    }
   ],
   "source": [
    "print(a[::-1])"
   ]
  },
  {
   "cell_type": "code",
   "execution_count": 108,
   "id": "77cceb7b",
   "metadata": {},
   "outputs": [
    {
     "name": "stdout",
     "output_type": "stream",
     "text": [
      "[30, 50.5, 'python']\n"
     ]
    }
   ],
   "source": [
    "print(a[2:])"
   ]
  },
  {
   "cell_type": "code",
   "execution_count": 109,
   "id": "859ba08e",
   "metadata": {},
   "outputs": [
    {
     "name": "stdout",
     "output_type": "stream",
     "text": [
      "[10, 20, 30, 50.5]\n"
     ]
    }
   ],
   "source": [
    "print(a[:4])"
   ]
  },
  {
   "cell_type": "code",
   "execution_count": 7,
   "id": "80bd0a68",
   "metadata": {},
   "outputs": [],
   "source": [
    "# we need to prove that list is mutable:\n",
    "# not only list any topic if we want to prove it is a mutable we need to come accross 3 types:\n",
    "\n",
    "                # check adding memory space :\n",
    "                # check replace in the same memory space \n",
    "                # check delete memory space:\n"
   ]
  },
  {
   "cell_type": "code",
   "execution_count": 8,
   "id": "63884082",
   "metadata": {},
   "outputs": [],
   "source": [
    "# Add some extra memory space:\n",
    "\n",
    "a = [10 , 20.2 , 'Data science']\n",
    "# for adding an extra space at the end of the list we can use method called append \n",
    "# append is going to increase the memory space at the right end:\n",
    "\n",
    "\n"
   ]
  },
  {
   "cell_type": "code",
   "execution_count": 9,
   "id": "bc323b97",
   "metadata": {},
   "outputs": [],
   "source": [
    "# append \n",
    "\n",
    "a.append(200)\n"
   ]
  },
  {
   "cell_type": "code",
   "execution_count": 10,
   "id": "7a3a5b80",
   "metadata": {},
   "outputs": [
    {
     "name": "stdout",
     "output_type": "stream",
     "text": [
      "[10, 20.2, 'Data science', 200]\n"
     ]
    }
   ],
   "source": [
    "print(a)"
   ]
  },
  {
   "cell_type": "code",
   "execution_count": 11,
   "id": "ad3471a5",
   "metadata": {},
   "outputs": [],
   "source": [
    "a.append(200)\n"
   ]
  },
  {
   "cell_type": "code",
   "execution_count": 12,
   "id": "b840f6f0",
   "metadata": {},
   "outputs": [
    {
     "name": "stdout",
     "output_type": "stream",
     "text": [
      "[10, 20.2, 'Data science', 200, 200]\n"
     ]
    }
   ],
   "source": [
    "print(a)"
   ]
  },
  {
   "cell_type": "code",
   "execution_count": 13,
   "id": "deca0b04",
   "metadata": {},
   "outputs": [],
   "source": [
    "a.append('python')"
   ]
  },
  {
   "cell_type": "code",
   "execution_count": 14,
   "id": "4af70306",
   "metadata": {},
   "outputs": [
    {
     "name": "stdout",
     "output_type": "stream",
     "text": [
      "[10, 20.2, 'Data science', 200, 200, 'python']\n"
     ]
    }
   ],
   "source": [
    "print(a)"
   ]
  },
  {
   "cell_type": "code",
   "execution_count": 21,
   "id": "1d6e96ec",
   "metadata": {},
   "outputs": [
    {
     "name": "stdout",
     "output_type": "stream",
     "text": [
      "[10, 20.2, 'data science']\n"
     ]
    }
   ],
   "source": [
    "# how to replace where ever we want:\n",
    "a = [10 , 20.2 , 'data science']\n",
    "print(a)"
   ]
  },
  {
   "cell_type": "code",
   "execution_count": 22,
   "id": "ce74b282",
   "metadata": {},
   "outputs": [],
   "source": [
    "# if we want to fill values where ever we want : use insert method:\n",
    "a.insert(2 , 'python')"
   ]
  },
  {
   "cell_type": "code",
   "execution_count": 23,
   "id": "0b831c2e",
   "metadata": {},
   "outputs": [
    {
     "name": "stdout",
     "output_type": "stream",
     "text": [
      "[10, 20.2, 'python', 'data science']\n"
     ]
    }
   ],
   "source": [
    "print(a)"
   ]
  },
  {
   "cell_type": "code",
   "execution_count": 24,
   "id": "1bf439b3",
   "metadata": {},
   "outputs": [
    {
     "data": {
      "text/plain": [
       "'data science'"
      ]
     },
     "execution_count": 24,
     "metadata": {},
     "output_type": "execute_result"
    }
   ],
   "source": [
    "a[3]"
   ]
  },
  {
   "cell_type": "code",
   "execution_count": 25,
   "id": "db6bc3c5",
   "metadata": {},
   "outputs": [],
   "source": [
    "# replace\n",
    "\n",
    "a[3] = 'Artificial intelligence'"
   ]
  },
  {
   "cell_type": "code",
   "execution_count": 26,
   "id": "9e5dea35",
   "metadata": {},
   "outputs": [
    {
     "name": "stdout",
     "output_type": "stream",
     "text": [
      "[10, 20.2, 'python', 'Artificial intelligence']\n"
     ]
    }
   ],
   "source": [
    "print(a)"
   ]
  },
  {
   "cell_type": "code",
   "execution_count": 27,
   "id": "87cb80d6",
   "metadata": {},
   "outputs": [],
   "source": [
    "# delete memory space:\n",
    "a = [10,20,30.5,'python']\n",
    "\n",
    "del a[3]\n",
    "\n"
   ]
  },
  {
   "cell_type": "code",
   "execution_count": 28,
   "id": "b7081f56",
   "metadata": {},
   "outputs": [
    {
     "name": "stdout",
     "output_type": "stream",
     "text": [
      "[10, 20, 30.5]\n"
     ]
    }
   ],
   "source": [
    "print(a)"
   ]
  },
  {
   "cell_type": "code",
   "execution_count": 29,
   "id": "e42a47d6",
   "metadata": {},
   "outputs": [],
   "source": [
    "## finally list is mutable : can change its behaviour:"
   ]
  },
  {
   "cell_type": "markdown",
   "id": "d3cd537e",
   "metadata": {},
   "source": [
    "### methods in list:\n",
    "\n"
   ]
  },
  {
   "cell_type": "code",
   "execution_count": 30,
   "id": "21f85c0b",
   "metadata": {},
   "outputs": [
    {
     "name": "stdout",
     "output_type": "stream",
     "text": [
      "[100, 200, 300.56, 'raja', 'priya']\n"
     ]
    }
   ],
   "source": [
    "a = [100,200,300.56,'raja','priya']\n",
    "print(a)"
   ]
  },
  {
   "cell_type": "code",
   "execution_count": 31,
   "id": "3bfe9444",
   "metadata": {},
   "outputs": [],
   "source": [
    "a.clear()  # it removes entire values in a list and make variable as empty: but clear cant delete variable \n",
    "\n"
   ]
  },
  {
   "cell_type": "code",
   "execution_count": 32,
   "id": "fdd50ac3",
   "metadata": {},
   "outputs": [
    {
     "name": "stdout",
     "output_type": "stream",
     "text": [
      "[]\n"
     ]
    }
   ],
   "source": [
    "print(a)"
   ]
  },
  {
   "cell_type": "code",
   "execution_count": 33,
   "id": "38b231ca",
   "metadata": {},
   "outputs": [
    {
     "ename": "NameError",
     "evalue": "name 'a' is not defined",
     "output_type": "error",
     "traceback": [
      "\u001b[1;31m---------------------------------------------------------------------------\u001b[0m",
      "\u001b[1;31mNameError\u001b[0m                                 Traceback (most recent call last)",
      "Cell \u001b[1;32mIn[33], line 4\u001b[0m\n\u001b[0;32m      2\u001b[0m a \u001b[38;5;241m=\u001b[39m [\u001b[38;5;241m100\u001b[39m,\u001b[38;5;241m200\u001b[39m,\u001b[38;5;241m300.56\u001b[39m,\u001b[38;5;124m'\u001b[39m\u001b[38;5;124mraja\u001b[39m\u001b[38;5;124m'\u001b[39m,\u001b[38;5;124m'\u001b[39m\u001b[38;5;124mpriya\u001b[39m\u001b[38;5;124m'\u001b[39m]\n\u001b[0;32m      3\u001b[0m \u001b[38;5;28;01mdel\u001b[39;00m a\n\u001b[1;32m----> 4\u001b[0m \u001b[38;5;28mprint\u001b[39m(\u001b[43ma\u001b[49m)\n",
      "\u001b[1;31mNameError\u001b[0m: name 'a' is not defined"
     ]
    }
   ],
   "source": [
    "# delete\n",
    "a = [100,200,300.56,'raja','priya']\n",
    "del a\n",
    "print(a)"
   ]
  },
  {
   "cell_type": "code",
   "execution_count": 39,
   "id": "60c4c3f5",
   "metadata": {},
   "outputs": [],
   "source": [
    "a = [100,200,300.56,'raja','priya']"
   ]
  },
  {
   "cell_type": "code",
   "execution_count": 40,
   "id": "f49e971f",
   "metadata": {},
   "outputs": [
    {
     "name": "stdout",
     "output_type": "stream",
     "text": [
      "[100, 200, 300.56, 'raja', 'priya']\n",
      "[100, 200, 300.56, 'raja', 'priya']\n"
     ]
    }
   ],
   "source": [
    "# copy:\n",
    "\n",
    "b = a.copy()\n",
    "\n",
    "print(a)\n",
    "print(b)"
   ]
  },
  {
   "cell_type": "code",
   "execution_count": 37,
   "id": "88c27e1f",
   "metadata": {},
   "outputs": [
    {
     "data": {
      "text/plain": [
       "1"
      ]
     },
     "execution_count": 37,
     "metadata": {},
     "output_type": "execute_result"
    }
   ],
   "source": [
    "# count:\n",
    "\n",
    "a.count(100)"
   ]
  },
  {
   "cell_type": "code",
   "execution_count": 38,
   "id": "882c6b01",
   "metadata": {},
   "outputs": [
    {
     "data": {
      "text/plain": [
       "2"
      ]
     },
     "execution_count": 38,
     "metadata": {},
     "output_type": "execute_result"
    }
   ],
   "source": [
    "a = [100,200,300.56,'raja','priya',200]\n",
    "a.count(200)"
   ]
  },
  {
   "cell_type": "code",
   "execution_count": 41,
   "id": "c03d5ec6",
   "metadata": {},
   "outputs": [
    {
     "name": "stdout",
     "output_type": "stream",
     "text": [
      "[100, 200, 300.56, 'raja', 'priya', 200, 1, 2, 3, 4]\n"
     ]
    }
   ],
   "source": [
    "# extend\n",
    "\n",
    "# extend is going to add another list at the end \n",
    "\n",
    "a = [100,200,300.56,'raja','priya',200]\n",
    "\n",
    "a.extend([1,2,3,4])\n",
    "\n",
    "print(a)"
   ]
  },
  {
   "cell_type": "code",
   "execution_count": 44,
   "id": "d7566fbc",
   "metadata": {},
   "outputs": [
    {
     "data": {
      "text/plain": [
       "3"
      ]
     },
     "execution_count": 44,
     "metadata": {},
     "output_type": "execute_result"
    }
   ],
   "source": [
    "# index : used to find the index of value what we have given:\n",
    "\n",
    "a = [100,200,300.56,'raja','priya',200]\n",
    "a.index('raja')"
   ]
  },
  {
   "cell_type": "code",
   "execution_count": 45,
   "id": "8794c78f",
   "metadata": {},
   "outputs": [
    {
     "data": {
      "text/plain": [
       "1"
      ]
     },
     "execution_count": 45,
     "metadata": {},
     "output_type": "execute_result"
    }
   ],
   "source": [
    "a.index(200)"
   ]
  },
  {
   "cell_type": "code",
   "execution_count": 46,
   "id": "e04bcaa7",
   "metadata": {},
   "outputs": [
    {
     "data": {
      "text/plain": [
       "5"
      ]
     },
     "execution_count": 46,
     "metadata": {},
     "output_type": "execute_result"
    }
   ],
   "source": [
    "a.index(200,3,6)"
   ]
  },
  {
   "cell_type": "code",
   "execution_count": 47,
   "id": "94e5bf28",
   "metadata": {},
   "outputs": [
    {
     "data": {
      "text/plain": [
       "200"
      ]
     },
     "execution_count": 47,
     "metadata": {},
     "output_type": "execute_result"
    }
   ],
   "source": [
    "# pop : used to remove the last memory space : and we can also remove memory space where ever we want:\n",
    "\n",
    "a = [100,200,300.56,'raja','priya',200]\n",
    "a.pop()\n"
   ]
  },
  {
   "cell_type": "code",
   "execution_count": 48,
   "id": "9b1f313c",
   "metadata": {},
   "outputs": [
    {
     "name": "stdout",
     "output_type": "stream",
     "text": [
      "[100, 200, 300.56, 'raja', 'priya']\n"
     ]
    }
   ],
   "source": [
    "print(a)"
   ]
  },
  {
   "cell_type": "code",
   "execution_count": 50,
   "id": "90dd2e2b",
   "metadata": {},
   "outputs": [
    {
     "data": {
      "text/plain": [
       "'raja'"
      ]
     },
     "execution_count": 50,
     "metadata": {},
     "output_type": "execute_result"
    }
   ],
   "source": [
    "# remove where ever we want:using index \n",
    "\n",
    "\n",
    "a.pop(3)\n"
   ]
  },
  {
   "cell_type": "code",
   "execution_count": 51,
   "id": "0e00b508",
   "metadata": {},
   "outputs": [
    {
     "name": "stdout",
     "output_type": "stream",
     "text": [
      "[100, 200, 300.56, 'priya']\n"
     ]
    }
   ],
   "source": [
    "print(a)"
   ]
  },
  {
   "cell_type": "code",
   "execution_count": 52,
   "id": "a883eac6",
   "metadata": {},
   "outputs": [
    {
     "name": "stdout",
     "output_type": "stream",
     "text": [
      "[10, 20]\n"
     ]
    }
   ],
   "source": [
    "# del \n",
    "a = [10,20,30.4]\n",
    "del a[2]\n",
    "print(a)"
   ]
  },
  {
   "cell_type": "code",
   "execution_count": 53,
   "id": "2b4d7d28",
   "metadata": {},
   "outputs": [
    {
     "name": "stdout",
     "output_type": "stream",
     "text": [
      "[10, 20]\n"
     ]
    }
   ],
   "source": [
    "# pop\n",
    "a = [10,20,30.4]\n",
    "a.pop()\n",
    "print(a)"
   ]
  },
  {
   "cell_type": "code",
   "execution_count": 54,
   "id": "c234632c",
   "metadata": {},
   "outputs": [
    {
     "name": "stdout",
     "output_type": "stream",
     "text": [
      "[10, 20]\n"
     ]
    }
   ],
   "source": [
    "# remove : doesn't take index it will take directly the value:\n",
    "\n",
    "a = [10,20,30.4]\n",
    "\n",
    "a.remove(30.4)\n",
    "\n",
    "print(a)"
   ]
  },
  {
   "cell_type": "code",
   "execution_count": 60,
   "id": "e68e22a9",
   "metadata": {},
   "outputs": [
    {
     "name": "stdout",
     "output_type": "stream",
     "text": [
      "[200, 'priya', 'raja', 300.56, 200, 100]\n"
     ]
    }
   ],
   "source": [
    "# reverse:\n",
    "a = [100,200,300.56,'raja','priya',200]\n",
    "a.reverse()\n",
    "print(a)"
   ]
  },
  {
   "cell_type": "code",
   "execution_count": 59,
   "id": "af8c2832",
   "metadata": {},
   "outputs": [
    {
     "data": {
      "text/plain": [
       "[200, 'priya', 'raja', 300.56, 200, 100]"
      ]
     },
     "execution_count": 59,
     "metadata": {},
     "output_type": "execute_result"
    }
   ],
   "source": [
    "a = [100,200,300.56,'raja','priya',200]\n",
    "a[::-1]"
   ]
  },
  {
   "cell_type": "code",
   "execution_count": 61,
   "id": "b256fabb",
   "metadata": {},
   "outputs": [
    {
     "name": "stdout",
     "output_type": "stream",
     "text": [
      "[0, 2, 4, 5, 9, 10, 17, 44, 98]\n"
     ]
    }
   ],
   "source": [
    "# sort: simple make them in ascending order or descending order \n",
    "\n",
    "# asceding order : small to big \n",
    "# descendiing order : big to small \n",
    "\n",
    "\n",
    "# sort method will help us in doing this \n",
    "# () -> paranethesis \n",
    "\n",
    "a = [10,9,4,2,17,5,44,98,0]\n",
    "#  make values in ascending order \n",
    "a.sort()  # default it will be ascending order \n",
    "\n",
    "print(a)"
   ]
  },
  {
   "cell_type": "code",
   "execution_count": 62,
   "id": "2d31e668",
   "metadata": {},
   "outputs": [
    {
     "name": "stdout",
     "output_type": "stream",
     "text": [
      "[98, 44, 17, 10, 9, 5, 4, 2, 0]\n"
     ]
    }
   ],
   "source": [
    "# But i want in descending order:\n",
    "\n",
    "a = [10,9,4,2,17,5,44,98,0]\n",
    "\n",
    "a.sort(reverse=True)  # for descending use parameter in parentesis\n",
    "\n",
    "print(a)"
   ]
  },
  {
   "cell_type": "code",
   "execution_count": 64,
   "id": "83594eec",
   "metadata": {},
   "outputs": [
    {
     "name": "stdout",
     "output_type": "stream",
     "text": [
      "['a', 'b', 'e', 'g']\n"
     ]
    }
   ],
   "source": [
    "a = ['a' , 'b' , 'g' , 'e']\n",
    "a.sort()\n",
    "print(a)"
   ]
  },
  {
   "cell_type": "code",
   "execution_count": 65,
   "id": "cbf9e161",
   "metadata": {},
   "outputs": [
    {
     "name": "stdout",
     "output_type": "stream",
     "text": [
      "['all', 'below', 'cat', 'zebra']\n"
     ]
    }
   ],
   "source": [
    "a = ['all','below','zebra','cat']\n",
    "a.sort()\n",
    "print(a)"
   ]
  },
  {
   "cell_type": "code",
   "execution_count": 66,
   "id": "feffc37f",
   "metadata": {},
   "outputs": [
    {
     "name": "stdout",
     "output_type": "stream",
     "text": [
      "['kamal']\n"
     ]
    }
   ],
   "source": [
    "a = ['kamal']\n",
    "a.sort()\n",
    "print(a)"
   ]
  },
  {
   "cell_type": "code",
   "execution_count": 68,
   "id": "050d00ad",
   "metadata": {},
   "outputs": [
    {
     "name": "stdout",
     "output_type": "stream",
     "text": [
      "['00cat555', '11zebra1223', '55all', '66below123']\n"
     ]
    }
   ],
   "source": [
    "a = ['55all','66below123','11zebra1223','00cat555']\n",
    "a.sort()\n",
    "print(a)"
   ]
  },
  {
   "cell_type": "code",
   "execution_count": 70,
   "id": "aed714a8",
   "metadata": {},
   "outputs": [],
   "source": [
    "# math operation in strings\n",
    "# split function in strings \n",
    "# join function in strings \n",
    "# membership funtion in strings and list \n",
    "# len , sum , max , min"
   ]
  },
  {
   "cell_type": "markdown",
   "id": "35f1822d",
   "metadata": {},
   "source": [
    "### math operation in strings"
   ]
  },
  {
   "cell_type": "code",
   "execution_count": 72,
   "id": "b1a25664",
   "metadata": {},
   "outputs": [
    {
     "data": {
      "text/plain": [
       "True"
      ]
     },
     "execution_count": 72,
     "metadata": {},
     "output_type": "execute_result"
    }
   ],
   "source": [
    "10 > 9"
   ]
  },
  {
   "cell_type": "markdown",
   "id": "bacc1935",
   "metadata": {},
   "source": [
    "Ascii : American stanndard code of international interchange"
   ]
  },
  {
   "cell_type": "code",
   "execution_count": 71,
   "id": "5e4b2901",
   "metadata": {},
   "outputs": [
    {
     "name": "stdout",
     "output_type": "stream",
     "text": [
      "True\n"
     ]
    }
   ],
   "source": [
    "value1 = 'ab'\n",
    "value2 = 'AB'\n",
    "print(value1 > value2)"
   ]
  },
  {
   "cell_type": "code",
   "execution_count": 79,
   "id": "3b59d408",
   "metadata": {},
   "outputs": [
    {
     "data": {
      "text/plain": [
       "'A'"
      ]
     },
     "execution_count": 79,
     "metadata": {},
     "output_type": "execute_result"
    }
   ],
   "source": [
    "# if you dont belive me:\n",
    "\n",
    "chr(65)  # chr converts number to its character "
   ]
  },
  {
   "cell_type": "code",
   "execution_count": 82,
   "id": "56a23bf3",
   "metadata": {},
   "outputs": [
    {
     "data": {
      "text/plain": [
       "97"
      ]
     },
     "execution_count": 82,
     "metadata": {},
     "output_type": "execute_result"
    }
   ],
   "source": [
    "ord('a')  # ord converts character ti ascci number "
   ]
  },
  {
   "cell_type": "code",
   "execution_count": 83,
   "id": "306954c4",
   "metadata": {},
   "outputs": [],
   "source": [
    "# Membership function: its a boolean outcome \n"
   ]
  },
  {
   "cell_type": "code",
   "execution_count": 88,
   "id": "21b6ccc6",
   "metadata": {},
   "outputs": [
    {
     "name": "stdout",
     "output_type": "stream",
     "text": [
      "True\n",
      "False\n",
      "True\n",
      "False\n"
     ]
    }
   ],
   "source": [
    "a = [10,20,30.5,'python']\n",
    "\n",
    "print(10 in a)\n",
    "print(100 in a)\n",
    "print('python' in a)\n",
    "print(20 not in a)"
   ]
  },
  {
   "cell_type": "code",
   "execution_count": 90,
   "id": "d3e69364",
   "metadata": {},
   "outputs": [
    {
     "name": "stdout",
     "output_type": "stream",
     "text": [
      "11\n"
     ]
    }
   ],
   "source": [
    "# len , sum , max , min in stings:\n",
    "\n",
    "a = 'python java'\n",
    "\n",
    "# len = will give you the number of characters \n",
    "\n",
    "print(len(a))"
   ]
  },
  {
   "cell_type": "code",
   "execution_count": 93,
   "id": "d752bf17",
   "metadata": {},
   "outputs": [
    {
     "name": "stdout",
     "output_type": "stream",
     "text": [
      "a\n"
     ]
    }
   ],
   "source": [
    "a = 'abc'\n",
    "\n",
    "# sum = add each ascii value \n",
    "\n",
    "print(min(a))"
   ]
  },
  {
   "cell_type": "code",
   "execution_count": 95,
   "id": "d4135657",
   "metadata": {},
   "outputs": [
    {
     "name": "stdout",
     "output_type": "stream",
     "text": [
      "4\n"
     ]
    }
   ],
   "source": [
    "# list:\n",
    "a = [10,20,300.5,70]\n",
    "print(len(a))"
   ]
  },
  {
   "cell_type": "code",
   "execution_count": 96,
   "id": "807b08fb",
   "metadata": {},
   "outputs": [
    {
     "name": "stdout",
     "output_type": "stream",
     "text": [
      "400.5\n"
     ]
    }
   ],
   "source": [
    "print(sum(a))"
   ]
  },
  {
   "cell_type": "code",
   "execution_count": 97,
   "id": "bc2f85a5",
   "metadata": {},
   "outputs": [
    {
     "name": "stdout",
     "output_type": "stream",
     "text": [
      "300.5\n"
     ]
    }
   ],
   "source": [
    "print(max(a))"
   ]
  },
  {
   "cell_type": "code",
   "execution_count": 98,
   "id": "6b0f077d",
   "metadata": {},
   "outputs": [
    {
     "name": "stdout",
     "output_type": "stream",
     "text": [
      "10\n"
     ]
    }
   ],
   "source": [
    "print(min(a))"
   ]
  },
  {
   "cell_type": "markdown",
   "id": "b2d2f8f6",
   "metadata": {},
   "source": [
    "## split function:"
   ]
  },
  {
   "cell_type": "code",
   "execution_count": 105,
   "id": "a3fd5a56",
   "metadata": {},
   "outputs": [
    {
     "name": "stdout",
     "output_type": "stream",
     "text": [
      "['I', 'worked', 'in', 'microsoft', 'for', '1.5', 'years']\n"
     ]
    }
   ],
   "source": [
    "# breaking into pieces \n",
    "\n",
    "a = 'I worked in microsoft for 1.5 years'\n",
    "b = a.split()  # break them into pieces default it will select as space \n",
    "# once using the split output will be in the form of list \n",
    "print(b)"
   ]
  },
  {
   "cell_type": "code",
   "execution_count": 104,
   "id": "87887f65",
   "metadata": {},
   "outputs": [
    {
     "name": "stdout",
     "output_type": "stream",
     "text": [
      "['I worked in microsoft for 1.5', 'years']\n"
     ]
    }
   ],
   "source": [
    "a = 'I worked in microsoft for 1.5,years'\n",
    "b = a.split(',')  # we can specify our own split are \n",
    "print(b)"
   ]
  },
  {
   "cell_type": "code",
   "execution_count": 112,
   "id": "e8dfe125",
   "metadata": {},
   "outputs": [
    {
     "name": "stdout",
     "output_type": "stream",
     "text": [
      "['My', 'name', 'is', 'kamal', 'and', 'my', 'age', 'is']\n"
     ]
    }
   ],
   "source": [
    "c = 'My name is kamal and my age is'\n",
    "d = c.split()\n",
    "print(d)\n"
   ]
  },
  {
   "cell_type": "code",
   "execution_count": 113,
   "id": "d7784dac",
   "metadata": {},
   "outputs": [
    {
     "name": "stdout",
     "output_type": "stream",
     "text": [
      "['My', 'name', 'is', 'kamal', 'and', 'my', 'age', 'is', '25']\n"
     ]
    }
   ],
   "source": [
    "d.append(str(25))\n",
    "print(d)"
   ]
  },
  {
   "cell_type": "code",
   "execution_count": 117,
   "id": "2d75483d",
   "metadata": {},
   "outputs": [
    {
     "name": "stdout",
     "output_type": "stream",
     "text": [
      "My name is kamal and my age is 25\n"
     ]
    }
   ],
   "source": [
    "# join function is used to join each word:\n",
    "\n",
    "\n",
    "sol = ' '.join(d)\n",
    "print(sol)"
   ]
  },
  {
   "cell_type": "code",
   "execution_count": 118,
   "id": "ff47dcce",
   "metadata": {},
   "outputs": [
    {
     "name": "stdout",
     "output_type": "stream",
     "text": [
      "I am from india\n"
     ]
    }
   ],
   "source": [
    "a = ['I' , 'am' , 'from' , 'india']\n",
    "# if there is a list and inside the list there is a strings and if you want to add then use join\n",
    "\n",
    "sol = ' '.join(a)\n",
    "print(sol)\n"
   ]
  },
  {
   "cell_type": "code",
   "execution_count": 123,
   "id": "226a9e03",
   "metadata": {},
   "outputs": [
    {
     "name": "stdout",
     "output_type": "stream",
     "text": [
      "language.programming.love.I\n"
     ]
    }
   ],
   "source": [
    "## question : capgemini interview question\n",
    "\n",
    "value = 'I.love.programming.language'\n",
    "b = value.split('.')\n",
    "c = b[::-1]\n",
    "d = '.'.join(c)\n",
    "print(d)"
   ]
  },
  {
   "cell_type": "code",
   "execution_count": 124,
   "id": "388bcdd4",
   "metadata": {},
   "outputs": [],
   "source": [
    "# end od strings and list:"
   ]
  },
  {
   "cell_type": "code",
   "execution_count": null,
   "id": "fddb8c1d",
   "metadata": {},
   "outputs": [],
   "source": []
  }
 ],
 "metadata": {
  "kernelspec": {
   "display_name": "Python 3 (ipykernel)",
   "language": "python",
   "name": "python3"
  },
  "language_info": {
   "codemirror_mode": {
    "name": "ipython",
    "version": 3
   },
   "file_extension": ".py",
   "mimetype": "text/x-python",
   "name": "python",
   "nbconvert_exporter": "python",
   "pygments_lexer": "ipython3",
   "version": "3.10.9"
  }
 },
 "nbformat": 4,
 "nbformat_minor": 5
}
